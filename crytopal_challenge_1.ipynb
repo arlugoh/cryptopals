{
 "cells": [
  {
   "cell_type": "code",
   "execution_count": 93,
   "metadata": {
    "collapsed": true
   },
   "outputs": [],
   "source": [
    "BASE64_TABLE = 'ABCDEFGHIJKLMNOPQRSTUVWXYZabcdefghijklmnopqrstuvwxyz0123456789+/'\n",
    "def hex_chr_to_int ( hex_chr ) :\n",
    "    temp = ord(hex_chr);\n",
    "    if(temp>=97) :\n",
    "        return temp - 87;\n",
    "    else :\n",
    "        return temp - 48;\n",
    "\n",
    "def first_hex_followed_by_first_2bits_of_second_hex (hex1, hex2) :\n",
    "    return hex1<<2 | hex2>>2\n",
    "\n",
    "def last_2bits_of_first_hex_followed_second_hex (hex1, hex2) :\n",
    "    return (hex1&3)<<4 | hex2\n",
    "\n",
    "def hex_list_to_base64 ( hex_ints ) : \n",
    "    \"\"\"hex_ints can be of size 2,4 or 6\"\"\"\n",
    "    results=''\n",
    "    padding_byte_count = 3 - len(hex_ints)/2\n",
    "    results = results + ( BASE64_TABLE[first_hex_followed_by_first_2bits_of_second_hex(hex_ints[0], hex_ints[1])] )\n",
    "    if(padding_byte_count < 2 ):\n",
    "        # 1 or no padding\n",
    "        # 2nd code\n",
    "        results = results + ( BASE64_TABLE[ last_2bits_of_first_hex_followed_second_hex(hex_ints[1], hex_ints[2]) ] )\n",
    "        if(padding_byte_count < 1 ) :\n",
    "            # no padding\n",
    "            # 3rd code\n",
    "            results = results + ( BASE64_TABLE[ first_hex_followed_by_first_2bits_of_second_hex(hex_ints[3], hex_ints[4]) ] )\n",
    "            # 4th code\n",
    "            results = results + ( BASE64_TABLE[ last_2bits_of_first_hex_followed_second_hex(hex_ints[4], hex_ints[5]) ] )\n",
    "        else :\n",
    "            # one byte padding\n",
    "            # 3rd and 4th code\n",
    "            results = results + ( BASE64_TABLE[ (hex_ints[3] & 3) <<2 ] )\n",
    "            results = results + ('=')\n",
    "    else : \n",
    "        # 2 bytes padding\n",
    "        results = results + ( BASE64_TABLE[ (hex_ints[1] & 3) <<2])\n",
    "        results = results + ('=')\n",
    "        results = results + ('=')\n",
    "    return results;\n",
    "\n",
    "\n",
    "def hex_str_to_base64 ( hex_str ) :\n",
    "    \"\"\"converts hex string into base 64\"\"\"\n",
    "    i=0\n",
    "    result = ''\n",
    "    while (True) :\n",
    "        right = min(len(hex_str), (i+1)*6)\n",
    "        hex_ints = [hex_chr_to_int (each) for each in hex_str[i*6 : right]];\n",
    "        result = result +  (hex_list_to_base64(hex_ints))\n",
    "        if ((i+1)*6 >= len(hex_str)) :\n",
    "            break;\n",
    "        else :\n",
    "            i = i+1\n",
    "    return result;\n",
    "\n"
   ]
  },
  {
   "cell_type": "code",
   "execution_count": 94,
   "metadata": {
    "scrolled": false
   },
   "outputs": [
    {
     "data": {
      "text/plain": [
       "True"
      ]
     },
     "execution_count": 94,
     "metadata": {},
     "output_type": "execute_result"
    }
   ],
   "source": [
    "'SSdtIGtpbGxpbmcgeW91ciBicmFpbiBsaWtlIGEgcG9pc29ub3VzIG11c2hyb29t' == hex_str_to_base64('49276d206b696c6c696e6720796f757220627261696e206c696b65206120706f69736f6e6f7573206d757368726f6f6d')\n"
   ]
  }
 ],
 "metadata": {
  "kernelspec": {
   "display_name": "Python 3",
   "language": "python",
   "name": "python3"
  },
  "language_info": {
   "codemirror_mode": {
    "name": "ipython",
    "version": 3
   },
   "file_extension": ".py",
   "mimetype": "text/x-python",
   "name": "python",
   "nbconvert_exporter": "python",
   "pygments_lexer": "ipython3",
   "version": "3.4.3"
  }
 },
 "nbformat": 4,
 "nbformat_minor": 2
}
